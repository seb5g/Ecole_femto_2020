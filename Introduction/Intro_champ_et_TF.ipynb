{
 "cells": [
  {
   "cell_type": "markdown",
   "metadata": {
    "slideshow": {
     "slide_type": "slide"
    }
   },
   "source": [
    "# Champ Electrique et Transformée de Fourier"
   ]
  },
  {
   "cell_type": "markdown",
   "metadata": {
    "slideshow": {
     "slide_type": "subslide"
    }
   },
   "source": [
    "$$\n",
    "\\newcommand{\\reE}{\\mathcal{E}}  %Champ réel associé à E\n",
    "\\newcommand{\\ccon}{^{\\ast}} %Complexe conjugué dc E\\ccon c'est le complexe conjugué de E\n",
    "\\newcommand{\\conv}{{\\otimes}} %Convolution\n",
    "\\newcommand{\\eps}{\\varepsilon}\n",
    "\\newcommand{\\om}{{\\omega}}\n",
    "\\newcommand{\\omz}{{\\omega_{0}}}\n",
    "$$\n",
    "Le champ électrique  est une quantité réelle, que nous noterons $\\reE(t)$ et que nous décomposerons comme:\n",
    "$$\n",
    "\\reE(t) = \\frac{1}{2} \\left[ E(t) + E\\ccon(t)\\right]=\\Re[E(t)]\n",
    "$$\n",
    "$E(t)$ est le champ complexe correspondant à sa partie de fréquence positive, il se met sous la forme:\n",
    "$$\n",
    "E(t) = A(t)e^{-i\\varphi(t)}%\n",
    "\\label{an:eq:def-Et}\n",
    "$$\n",
    "avec $\\varphi(t)=\\omz t+\\varphi_f(t)$ où $\\om_0$ est la pulsation centrale du champ électrique, $A(t)$ son enveloppe et $\\varphi(t)$ sa phase temporelle, $\\varphi_f(t)$ étant une phase temporelle supplémentaire due, par exemple, à de la dispersion ou à un façonnage."
   ]
  },
  {
   "cell_type": "markdown",
   "metadata": {
    "slideshow": {
     "slide_type": "subslide"
    }
   },
   "source": [
    "## Unités\n",
    "\n",
    "Les unités en physique sont celles du SI, mais il est plus judicieux de travailler, dans le dommaine des impulsions femtsecondes, avec des dérivées de celles-ci . Presque par définition, l'unité de temps est la *fs* et dans le domaine visible l'unité de longueur est le *nanomètre*. Une autre grandeur souvent utilisée est la pulsation $\\omz$ lié à la fréquence par: $\\omz=2\\pi f$ qui s'exprimera donc en *rad/fs*. La constance *c* de la vitesse de la lumière s'exprime alors très simplement dans ces unités et vaut 300 *nm/fs*. Quand à une impulsion laser centrée à 800nm, elle a une pulsation $\\omz=\\frac{2\\pi c}{\\lambda_0}$ égale à:"
   ]
  },
  {
   "cell_type": "code",
   "execution_count": 1,
   "metadata": {
    "slideshow": {
     "slide_type": "subslide"
    }
   },
   "outputs": [
    {
     "name": "stdout",
     "output_type": "stream",
     "text": [
      "2.356194490192345\n"
     ]
    }
   ],
   "source": [
    "from numpy import pi\n",
    "c = 300  #nm/fs\n",
    "lambda0 = 800  #nm\n",
    "omega0 = 2*pi*c/lambda0\n",
    "print(omega0)"
   ]
  },
  {
   "cell_type": "markdown",
   "metadata": {
    "slideshow": {
     "slide_type": "subslide"
    }
   },
   "source": [
    "Dans toute la suite de ces cours, le domaine fréquentiel sera donc exprimé en unité de pulsation *rad/fs* et le domaine temporel en *fs*"
   ]
  },
  {
   "cell_type": "markdown",
   "metadata": {
    "slideshow": {
     "slide_type": "slide"
    }
   },
   "source": [
    "## Fonctions Utiles"
   ]
  },
  {
   "cell_type": "code",
   "execution_count": 13,
   "metadata": {
    "jupyter": {
     "source_hidden": true
    },
    "slideshow": {
     "slide_type": "skip"
    }
   },
   "outputs": [],
   "source": [
    "import numpy as np\n",
    "def ftAxis(Npts, omega_max):\n",
    "    \"\"\"\n",
    "    Given two numbers Npts,omega_max, return two vectors spanning the temporal\n",
    "    and spectral range. They are related by Fourier Transform\n",
    "\n",
    "    Parameters\n",
    "    ----------\n",
    "    Npts: (int)\n",
    "      A number of points defining the length of both grids\n",
    "    omega_max: (float)\n",
    "      The maximum circular frequency in the spectral domain. its unit defines\n",
    "      the temporal units. ex: omega_max in rad/fs implies time_grid in fs\n",
    "\n",
    "    Returns\n",
    "    -------\n",
    "    omega_grid: (ndarray)\n",
    "      The spectral axis of the FFT\n",
    "    time_grid: (ndarray))\n",
    "      The temporal axis of the FFT\n",
    "    See Also\n",
    "    --------\n",
    "    ftAxis, ftAxis_time, ift, ft2, ift2\n",
    "    \"\"\"\n",
    "    if not isinstance(Npts, int):\n",
    "        raise TypeError('n should be a positive integer, if possible power of 2')\n",
    "    elif Npts < 1:\n",
    "        raise ValueError('n should be a strictly positive integer')\n",
    "    dT = 2 * np.pi / (2 * omega_max)\n",
    "    omega_grid = np.linspace(-omega_max, omega_max, Npts)\n",
    "    time_grid = dT * np.linspace(-(Npts - 1) / 2, (Npts - 1) / 2, Npts)\n",
    "    return omega_grid, time_grid\n",
    "\n",
    "\n",
    "def ftAxis_time(Npts, time_max):\n",
    "    \"\"\"\n",
    "    Given two numbers Npts,omega_max, return two vectors spanning the temporal\n",
    "    and spectral range. They are related by Fourier Transform\n",
    "\n",
    "    Parameters\n",
    "    ----------\n",
    "    Npts : number\n",
    "      A number of points defining the length of both grids\n",
    "    omega_max : number\n",
    "      The maximum circular frequency in the spectral domain. its unit defines\n",
    "      the temporal units. ex: omega_max in rad/fs implies time_grid in fs\n",
    "\n",
    "    Returns\n",
    "    -------\n",
    "    omega_grid : vector\n",
    "      The spectral axis of the FFT\n",
    "    time_grid : vector\n",
    "      The temporal axis of the FFT\n",
    "    See Also\n",
    "    --------\n",
    "    ftAxis, ftAxis_time, ift, ft2, ift2\n",
    "    \"\"\"\n",
    "    if not isinstance(Npts, int):\n",
    "        raise TypeError('n should be a positive integer, if possible power of 2')\n",
    "    elif Npts < 1:\n",
    "        raise ValueError('n should be a strictly positive integer')\n",
    "    dT = time_max / Npts\n",
    "    omega_max = (Npts - 1) / 2 * 2 * np.pi / time_max\n",
    "    omega_grid = np.linspace(-omega_max, omega_max, Npts)\n",
    "    time_grid = dT * np.linspace(-(Npts - 1) / 2, (Npts - 1) / 2, Npts)\n",
    "    return omega_grid, time_grid\n",
    "\n",
    "\n",
    "def ft(x, dim=-1):\n",
    "    \"\"\"\n",
    "    Process the 1D fast fourier transform and swaps the axis to get coorect results using ftAxis\n",
    "    Parameters\n",
    "    ----------\n",
    "    x: (ndarray) the array on which the FFT should be done\n",
    "    dim: the axis over which is done the FFT (default is the last of the array)\n",
    "\n",
    "    Returns\n",
    "    -------\n",
    "    See Also\n",
    "    --------\n",
    "    ftAxis, ftAxis_time, ift, ft2, ift2\n",
    "    \"\"\"\n",
    "    if not isinstance(dim, int):\n",
    "        raise TypeError('dim should be an integer specifying the array dimension over which to do the calculation')\n",
    "    assert isinstance(x, np.ndarray)\n",
    "    assert dim >= -1\n",
    "    assert dim <= len(x.shape)-1\n",
    "\n",
    "    out = np.fft.fftshift(np.fft.fft(np.fft.fftshift(x, axes=dim), axis=dim), axes=dim)\n",
    "    return out\n",
    "\n",
    "\n",
    "def ift(x, dim=0):\n",
    "    \"\"\"\n",
    "    Process the inverse 1D fast fourier transform and swaps the axis to get correct results using ftAxis\n",
    "    Parameters\n",
    "    ----------\n",
    "    x: (ndarray) the array on which the FFT should be done\n",
    "    dim: the axis over which is done the FFT (default is the last of the array)\n",
    "\n",
    "    Returns\n",
    "    -------\n",
    "    See Also\n",
    "    --------\n",
    "    ftAxis, ftAxis_time, ift, ft2, ift2\n",
    "    \"\"\"\n",
    "    if not isinstance(dim, int):\n",
    "        raise TypeError('dim should be an integer specifying the array dimension over which to do the calculation')\n",
    "    assert isinstance(x, np.ndarray)\n",
    "    assert dim >= -1\n",
    "    assert dim <= len(x.shape)-1\n",
    "    out = np.fft.fftshift(np.fft.ifft(np.fft.fftshift(x, axes=dim), axis=dim), axes=dim)\n",
    "    return out\n"
   ]
  },
  {
   "cell_type": "code",
   "execution_count": 14,
   "metadata": {
    "jupyter": {
     "source_hidden": true
    },
    "slideshow": {
     "slide_type": "skip"
    }
   },
   "outputs": [],
   "source": [
    "def gauss1D(x, x0, dx, n=1):\n",
    "    \"\"\"\n",
    "    compute the gaussian function along a vector x, centered in x0 and with a\n",
    "    FWHM i intensity of dx. n=1 is for the standart gaussian while n>1 defines\n",
    "    a hypergaussian\n",
    "\n",
    "    Parameters\n",
    "    ----------\n",
    "    x: (ndarray) first axis of the 2D gaussian\n",
    "    x0: (float) the central position of the gaussian\n",
    "    dx: (float) :the FWHM of the gaussian\n",
    "    n=1 : an integer to define hypergaussian, n=1 by default for regular gaussian\n",
    "    Returns\n",
    "    -------\n",
    "    out : vector\n",
    "      the value taken by the gaussian along x axis\n",
    "\n",
    "    \"\"\"\n",
    "    if dx <= 0:\n",
    "        raise ValueError('dx should be strictly positive')\n",
    "    if not isinstance(n, int):\n",
    "        raise TypeError('n should be a positive integer')\n",
    "    elif n < 0:\n",
    "        raise ValueError('n should be a positive integer')\n",
    "    out = np.exp(-2 * np.log(2) ** (1 / n) * (((x - x0) / dx)) ** (2 * n))\n",
    "    return out\n"
   ]
  },
  {
   "cell_type": "code",
   "execution_count": 15,
   "metadata": {
    "jupyter": {
     "source_hidden": true
    },
    "slideshow": {
     "slide_type": "skip"
    }
   },
   "outputs": [],
   "source": [
    "def l2w(x, speedlight=300):\n",
    "    \"\"\"Converts photon energy in rad/fs to nm (and vice-versa)\n",
    "\n",
    "    Parameters\n",
    "    ----------\n",
    "    x: float\n",
    "       photon energy in wavelength or rad/fs\n",
    "    speedlight: float, optional\n",
    "                the speed of light, by default 300 nm/fs\n",
    "\n",
    "    Returns\n",
    "    -------\n",
    "    float\n",
    "\n",
    "    Examples\n",
    "    --------\n",
    "    >>> l2w(800)\n",
    "    2.356194490192345\n",
    "    >>> l2w(800,3e8)\n",
    "    2356194.490192345\n",
    "    \"\"\"\n",
    "    y = 2 * np.pi * speedlight / x\n",
    "    return y\n"
   ]
  },
  {
   "cell_type": "markdown",
   "metadata": {
    "slideshow": {
     "slide_type": "slide"
    }
   },
   "source": [
    "## From temporal domain"
   ]
  },
  {
   "cell_type": "code",
   "execution_count": 62,
   "metadata": {
    "slideshow": {
     "slide_type": "subslide"
    }
   },
   "outputs": [
    {
     "data": {
      "text/plain": [
       "(1.3561944901923448, 3.356194490192345)"
      ]
     },
     "execution_count": 62,
     "metadata": {},
     "output_type": "execute_result"
    },
    {
     "data": {
      "image/png": "[encoded data removed]",
      "text/plain": [
       "<Figure size 432x288 with 2 Axes>"
      ]
     },
     "metadata": {
      "needs_background": "light"
     },
     "output_type": "display_data"
    }
   ],
   "source": [
    "%matplotlib inline\n",
    "import matplotlib.pyplot as plt\n",
    "\n",
    "Npts = 2**9\n",
    "time_window = 100 #in fs\n",
    "omega_axis, time_axis = ftAxis_time(Npts, time_window)  #in rad/fs, fs\n",
    "\n",
    "lambda0 = 800\n",
    "omega0 = l2w(800)\n",
    "t0 = 0  #fs\n",
    "dt = 5  #fs\n",
    "Et = gauss1D(time_axis, 0, dt) * np.exp(1j*omega0*time_axis)\n",
    "Ew = ft(Et)\n",
    "\n",
    "plt.subplot(121)\n",
    "plt.plot(time_axis, np.real(Et))\n",
    "plt.xlabel('Time Axis (fs)')\n",
    "plt.ylabel('Temporal Electric field')\n",
    "plt.xlim([-50, 50])\n",
    "\n",
    "plt.subplot(122)\n",
    "plt.plot(omega_axis, np.abs(Ew)**2)\n",
    "plt.xlabel('Omega Axis (rad/fs)')\n",
    "plt.ylabel('Spectral Electric Intensity')\n",
    "plt.xlim([omega0-1, omega0+1])\n"
   ]
  },
  {
   "cell_type": "code",
   "execution_count": 46,
   "metadata": {
    "slideshow": {
     "slide_type": "subslide"
    }
   },
   "outputs": [
    {
     "data": {
      "application/vnd.jupyter.widget-view+json": {
       "model_id": "b2f3b8a45be34bf3a2840d84842f4b4b",
       "version_major": 2,
       "version_minor": 0
      },
      "text/plain": [
       "VBox(children=(HBox(children=(FloatSlider(value=0.0, description='t0:', max=10.0, min=-10.0),)), FigureWidget(…"
      ]
     },
     "metadata": {},
     "output_type": "display_data"
    }
   ],
   "source": [
    "import plotly.graph_objects as go\n",
    "from ipywidgets import widgets\n",
    "\n",
    "def get_delayed_field(t0=0):\n",
    "    return gauss1D(time_axis, t0, dt) * np.exp(1j*omega0*time_axis)\n",
    "\n",
    "t0_select = widgets.FloatSlider(value=0.0,\n",
    "                        min=-10.,\n",
    "                        max=10.,\n",
    "                        step=0.1,\n",
    "                        description='t0:',\n",
    "                        continuous_update=True)\n",
    "\n",
    "container = widgets.HBox(children=[t0_select])\n",
    "\n",
    "data=go.Scatter(x=time_axis, y=np.real(Et), mode='lines',)\n",
    "data1=go.Scatter(x=time_axis, y=np.abs(Et), mode='lines', line=dict(color='red'))\n",
    "\n",
    "g = go.FigureWidget(data=[data, data1],)\n",
    "g.update_xaxes(range=(-50,50))\n",
    "\n",
    "def validate():\n",
    "    return True\n",
    "\n",
    "def response(change):\n",
    "    if validate():\n",
    "        if t0_select.value:\n",
    "            with g.batch_update():\n",
    "                g.data[0].x = time_axis\n",
    "                g.data[0].y = np.real(get_delayed_field(t0_select.value))\n",
    "                g.data[1].x = time_axis\n",
    "                g.data[1].y = np.abs(get_delayed_field(t0_select.value))\n",
    "t0_select.observe(response, names=\"value\")\n",
    "widgets.VBox([container, g])"
   ]
  },
  {
   "cell_type": "markdown",
   "metadata": {
    "slideshow": {
     "slide_type": "slide"
    }
   },
   "source": [
    "## From Spectral domain"
   ]
  },
  {
   "cell_type": "code",
   "execution_count": 63,
   "metadata": {
    "slideshow": {
     "slide_type": "subslide"
    }
   },
   "outputs": [
    {
     "name": "stdout",
     "output_type": "stream",
     "text": [
      "0.5890486225480862\n"
     ]
    },
    {
     "data": {
      "text/plain": [
       "(-50, 50)"
      ]
     },
     "execution_count": 63,
     "metadata": {},
     "output_type": "execute_result"
    },
    {
     "data": {
      "image/png": "[encoded data removed]",
      "text/plain": [
       "<Figure size 432x288 with 2 Axes>"
      ]
     },
     "metadata": {
      "needs_background": "light"
     },
     "output_type": "display_data"
    }
   ],
   "source": [
    "\n",
    "Npts = 2**9\n",
    "\n",
    "lambda0 = 800\n",
    "omega0 = l2w(800)\n",
    "\n",
    "omega_max = 2.1*omega0 #in fs\n",
    "omega_axis, time_axis = ftAxis(Npts, omega_max)  #in rad/fs, fs\n",
    "dlambda = 200\n",
    "dw = 2*pi*c*dlambda/lambda0**2\n",
    "print(dw)\n",
    "Ew = gauss1D(omega_axis, omega0, dw)\n",
    "Et = ift(Ew)\n",
    "\n",
    "plt.subplot(121)\n",
    "plt.plot(omega_axis, np.abs(Ew)**2)\n",
    "plt.xlabel('Omega Axis (rad/fs)')\n",
    "plt.ylabel('Spectral Electric Intensity')\n",
    "plt.xlim([omega0-1, omega0+1])\n",
    "\n",
    "plt.subplot(122)\n",
    "plt.plot(time_axis, np.real(Et))\n",
    "plt.xlabel('Time Axis (fs)')\n",
    "plt.ylabel('Temporal Electric field')\n",
    "plt.xlim([-50, 50])"
   ]
  },
  {
   "cell_type": "code",
   "execution_count": 84,
   "metadata": {
    "slideshow": {
     "slide_type": "subslide"
    }
   },
   "outputs": [
    {
     "data": {
      "application/vnd.jupyter.widget-view+json": {
       "model_id": "9975bf0fa2664c729e3a8c652626086f",
       "version_major": 2,
       "version_minor": 0
      },
      "text/plain": [
       "VBox(children=(HBox(children=(FloatSlider(value=800.0, continuous_update=False, description='lambda0:', max=20…"
      ]
     },
     "metadata": {},
     "output_type": "display_data"
    }
   ],
   "source": [
    "import plotly.graph_objects as go\n",
    "from ipywidgets import widgets\n",
    "\n",
    "Npts = 2**12\n",
    "omega_max = 5*2.32 #in rad/fs\n",
    "omega_axis, time_axis = ftAxis(Npts, omega_max)  #in rad/fs, fs\n",
    "\n",
    "def get_temporal_field(lambda0=800, dlambda=100, phi2=0, phi3=0):\n",
    "    omega0 = l2w(lambda0)\n",
    "    dw = 2*pi*c*dlambda/lambda0**2\n",
    "    Ew = gauss1D(omega_axis, omega0, dw) * np.exp(1j*phi2/2*(omega_axis-omega0)**2+\n",
    "                                                 1j*phi3/6*(omega_axis-omega0)**3)\n",
    "    return ift(Ew)\n",
    "\n",
    "\n",
    "lambda0_select = widgets.FloatSlider(value=800.0,\n",
    "                        min=400.,\n",
    "                        max=2000.,\n",
    "                        step=10,\n",
    "                        description='lambda0:',\n",
    "                        continuous_update=False)\n",
    "dlambda_select = widgets.FloatSlider(value=100.0,\n",
    "                        min=10.,\n",
    "                        max=300.,\n",
    "                        step=10,\n",
    "                        description='dlambda:',\n",
    "                        continuous_update=True)\n",
    "\n",
    "phi2_select = widgets.FloatSlider(value=0.0,\n",
    "                        min=-500.,\n",
    "                        max=500.,\n",
    "                        step=1,\n",
    "                        description='phi2:',\n",
    "                        continuous_update=True)\n",
    "\n",
    "phi3_select = widgets.FloatSlider(value=0.0,\n",
    "                        min=-3000.,\n",
    "                        max=3000.,\n",
    "                        step=10,\n",
    "                        description='phi3:',\n",
    "                        continuous_update=True)\n",
    "\n",
    "container = widgets.HBox(children=[lambda0_select, dlambda_select])\n",
    "container2 = widgets.HBox(children=[phi2_select, phi3_select])\n",
    "\n",
    "\n",
    "data=go.Scatter(x=time_axis, y=np.real(get_temporal_field(800, 100,0)), mode='lines',)\n",
    "data1=go.Scatter(x=time_axis, y=np.abs(get_temporal_field(800, 100,0)), mode='lines', line=dict(color='red'))\n",
    "\n",
    "g = go.FigureWidget(data=[data, data1],)\n",
    "g.update_xaxes(range=(-100,100))\n",
    "\n",
    "def validate():\n",
    "    return True\n",
    "\n",
    "def response(change):\n",
    "    if validate():\n",
    "        if t0_select.value:\n",
    "            with g.batch_update():\n",
    "                g.data[0].y = np.real(get_temporal_field(lambda0_select.value, dlambda_select.value,\n",
    "                                                        phi2_select.value, phi3_select.value))\n",
    "                g.data[1].y = np.abs(get_temporal_field(lambda0_select.value, dlambda_select.value,\n",
    "                                                        phi2_select.value, phi3_select.value))\n",
    "lambda0_select.observe(response, names=\"value\")\n",
    "dlambda_select.observe(response, names=\"value\")\n",
    "phi2_select.observe(response, names=\"value\")\n",
    "phi3_select.observe(response, names=\"value\")\n",
    "widgets.VBox([container, container2, g])"
   ]
  }
 ],
 "metadata": {
  "celltoolbar": "Diaporama",
  "kernelspec": {
   "display_name": "Python 3",
   "language": "python",
   "name": "python3"
  },
  "language_info": {
   "codemirror_mode": {
    "name": "ipython",
    "version": 3
   },
   "file_extension": ".py",
   "mimetype": "text/x-python",
   "name": "python",
   "nbconvert_exporter": "python",
   "pygments_lexer": "ipython3",
   "version": "3.7.6"
  }
 },
 "nbformat": 4,
 "nbformat_minor": 4
}
